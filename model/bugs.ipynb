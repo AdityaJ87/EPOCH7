{
 "cells": [
  {
   "cell_type": "code",
   "execution_count": 1,
   "id": "1d5e717c",
   "metadata": {},
   "outputs": [
    {
     "name": "stdout",
     "output_type": "stream",
     "text": [
      "Data types:\n",
      " TransactionID       int64\n",
      "isFraud             int64\n",
      "TransactionDT       int64\n",
      "TransactionAmt    float64\n",
      "ProductCD          object\n",
      "                   ...   \n",
      "V335              float64\n",
      "V336              float64\n",
      "V337              float64\n",
      "V338              float64\n",
      "V339              float64\n",
      "Length: 394, dtype: object\n"
     ]
    }
   ],
   "source": [
    "import pandas as pd\n",
    "df = pd.read_csv('D:\\\\kurukShetra\\\\dataset1\\\\ieee-fraud-detection\\\\train_transaction.csv')\n",
    "print(\"Data types:\\n\", df.dtypes)\n"
   ]
  }
 ],
 "metadata": {
  "kernelspec": {
   "display_name": "kurukshetra",
   "language": "python",
   "name": "python3"
  },
  "language_info": {
   "codemirror_mode": {
    "name": "ipython",
    "version": 3
   },
   "file_extension": ".py",
   "mimetype": "text/x-python",
   "name": "python",
   "nbconvert_exporter": "python",
   "pygments_lexer": "ipython3",
   "version": "3.10.18"
  }
 },
 "nbformat": 4,
 "nbformat_minor": 5
}
